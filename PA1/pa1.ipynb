{
 "cells": [
  {
   "cell_type": "markdown",
   "metadata": {},
   "source": [
    "# you should import PorterStemmer"
   ]
  },
  {
   "cell_type": "code",
   "execution_count": 1,
   "metadata": {},
   "outputs": [],
   "source": [
    "from nltk.stem import PorterStemmer "
   ]
  },
  {
   "cell_type": "code",
   "execution_count": 71,
   "metadata": {},
   "outputs": [],
   "source": [
    "class IR():\n",
    "    def __init__(self):\n",
    "        self.inittoken_list = []\n",
    "        self.stemmed_list = []\n",
    "        self.stopwarded_list = []\n",
    "        self.punctuation_list = [\".\", \"'\", '\"', \"?\"]\n",
    "        self.poter = PorterStemmer()\n",
    "        self.stopward_list = []\n",
    "        self.stopward_dic = {\"ALL\":[]}\n",
    "        self.stopward_flag = [0, 0]\n",
    "        return None\n",
    "    \n",
    "    def read_file(self, storage_place):\n",
    "        if len(self.inittoken_list) != 0:\n",
    "            return \"you have already put some data in here\"\n",
    "        ## vertify type of input\n",
    "        if not isinstance(storage_place, str):\n",
    "            print(\"you should input where you store your document in string type.\")\n",
    "            return False\n",
    "        ## make document in to a list of list of strings, seperated in lines\n",
    "        storage_place = storage_place.strip(\"/\")\n",
    "        document_list = open(storage_place, 'rt').readlines()\n",
    "\n",
    "        ## make document into a single list of string\n",
    "        for line in document_list:\n",
    "            start_flag = 0\n",
    "            for stop_flag in range( len(line)):\n",
    "                if line[ stop_flag] == ' ' :\n",
    "                    self.inittoken_list.append( ''.join(line[ start_flag : stop_flag]))\n",
    "                    start_flag = stop_flag + 1\n",
    "                if line[-1] == '.' and stop_flag == len(line)-1: # check the last word\n",
    "                    self.inittoken_list.append( ''.join(line[ start_flag : -1]))\n",
    "        return self.inittoken_list\n",
    "    \n",
    "    def stemming(self):\n",
    "        if len(self.stemmed_list) != 0:\n",
    "            return \"you have already stemmed your document\"\n",
    "        for voca_index in  range( len( self.inittoken_list)):\n",
    "            for pun in self.punctuation_list:\n",
    "                if pun in self.inittoken_list[voca_index] :\n",
    "                    self.inittoken_list[voca_index] = self.inittoken_list[voca_index].replace(pun, '')\n",
    "        ## lowercast and stem the document, which poter.stem() will auto-lowercast\n",
    "        for voca in self.inittoken_list:\n",
    "            self.stemmed_list.append( self.poter.stem( voca))    \n",
    "        return self.stemmed_list\n",
    "    \n",
    "    def stopwarding(self):\n",
    "        ## check for if stopward list create or not\n",
    "        if len(self.stopward_list) == 0:\n",
    "            init_stopward_list = ['i', 'me', 'my', 'myself', 'we', 'our', 'ours', 'ourselves', 'you', \"you're\", \"you've\", \"you'll\", \"you'd\", 'your', 'yours', 'yourself', 'yourselves', 'he', 'him', 'his', 'himself', 'she', \"she's\", 'her', 'hers', 'herself', 'it', \"it's\", 'its', 'itself', 'they', 'them', 'their', 'theirs', 'themselves', 'what', 'which', 'who', 'whom', 'this', 'that', \"that'll\", 'these', 'those', 'am', 'is', 'are', 'was', 'were', 'be', 'been', 'being', 'have', 'has', 'had', 'having', 'do', 'does', 'did', 'doing', 'a', 'an', 'the', 'and', 'but', 'if', 'or', 'because', 'as', 'until', 'while', 'of', 'at', 'by', 'for', 'with', 'about', 'against', 'between', 'into', 'through', 'during', 'before', 'after', 'above', 'below', 'to', 'from', 'up', 'down', 'in', 'out', 'on', 'off', 'over', 'under', 'again', 'further', 'then', 'once', 'here', 'there', 'when', 'where', 'why', 'how', 'all', 'any', 'both', 'each', 'few', 'more', 'most', 'other', 'some', 'such', 'no', 'nor', 'not', 'only', 'own', 'same', 'so', 'than', 'too', 'very', 's', 't', 'can', 'will', 'just', 'don', \"don't\", 'should', \"should've\", 'now', 'd', 'll', 'm', 'o', 're', 've', 'y', 'ain', 'aren', \"aren't\", 'couldn', \"couldn't\", 'didn', \"didn't\", 'doesn', \"doesn't\", 'hadn', \"hadn't\", 'hasn', \"hasn't\", 'haven', \"haven't\", 'isn', \"isn't\", 'ma', 'mightn', \"mightn't\", 'mustn', \"mustn't\", 'needn', \"needn't\", 'shan', \"shan't\", 'shouldn', \"shouldn't\", 'wasn', \"wasn't\", 'weren', \"weren't\", 'won', \"won't\", 'wouldn', \"wouldn't\"]\n",
    "            self.stopward_adding( init_stopward_list)\n",
    "        \n",
    "        ## check for the state of stopward, same for stopwarded, different for not yet \n",
    "        if self.stopward_flag[0] == self.stopward_flag[1]:\n",
    "            return \"you have already stopwarded your document\"\n",
    "        else:\n",
    "            if self.stopward_flag[1] > 0:\n",
    "                dest_document = self.stopwarded_list\n",
    "            else:\n",
    "                dest_document = self.stemmed_list\n",
    "        \n",
    "        ## stopward\n",
    "        for voca_index in range( len( dest_document)):\n",
    "            if dest_document[voca_index] in self.stopward_dic:\n",
    "                self.stopward_dic['ALL'].append( voca_index)\n",
    "                self.stopward_dic[ dest_document[voca_index]].append(voca_index)\n",
    "            else:\n",
    "                self.stopwarded_list.append( dest_document[voca_index])\n",
    "        self.stopward_flag[1] = self.stopward_flag[1] +1\n",
    "        return self.stopwarded_list\n",
    "    \n",
    "    def stopward_adding(self, new_ward_list):\n",
    "        ## check for type of list\n",
    "        if not isinstance(new_ward_list, list):\n",
    "            print(\"want a list. in stopward_adding\")\n",
    "            return False\n",
    "        for stopward in new_ward_list:\n",
    "            ## check for type of each ward in list\n",
    "            if not isinstance(stopward, str):\n",
    "                print(\"want a list of string. in stopward_adding\")\n",
    "                return False\n",
    "            ## stem and add \n",
    "            \n",
    "            stemmed_stopward = self.poter.stem( stopward)\n",
    "            if not stemmed_stopward in self.stopward_dic:\n",
    "                self.stopward_list.append( stemmed_stopward)\n",
    "                self.stopward_dic.update({stemmed_stopward: []})\n",
    "        self.stopward_flag[0] = self.stopward_flag[0] +1\n",
    "        return 0\n",
    "    \n",
    "    def punctuation_adding(self, new_pun):\n",
    "        \n",
    "        return 0\n",
    "    \n",
    "    def save_result(self):\n",
    "        with open(\"R09725049_result.txt\" , \"w\") as text_file:\n",
    "            text_file.write(str(self.stopwarded_list))\n",
    "        return \"file saved\""
   ]
  },
  {
   "cell_type": "markdown",
   "metadata": {},
   "source": [
    "# Create an object of IR"
   ]
  },
  {
   "cell_type": "code",
   "execution_count": 72,
   "metadata": {},
   "outputs": [],
   "source": [
    "temp1 = IR()"
   ]
  },
  {
   "cell_type": "markdown",
   "metadata": {},
   "source": [
    "# use .read_file(file_route) to import document you want\n",
    "#### ( type of file_route should be string)"
   ]
  },
  {
   "cell_type": "code",
   "execution_count": 73,
   "metadata": {},
   "outputs": [
    {
     "data": {
      "text/plain": [
       "['And',\n",
       " 'Yugoslav',\n",
       " 'authorities',\n",
       " 'are',\n",
       " 'planning',\n",
       " 'the',\n",
       " 'arrest',\n",
       " 'of',\n",
       " 'eleven',\n",
       " 'coal',\n",
       " 'miners',\n",
       " 'and',\n",
       " 'two',\n",
       " 'opposition',\n",
       " 'politicians',\n",
       " 'on',\n",
       " 'suspicion',\n",
       " 'of',\n",
       " 'sabotage,',\n",
       " \"that's\",\n",
       " 'in',\n",
       " 'connection',\n",
       " 'with',\n",
       " 'strike',\n",
       " 'action',\n",
       " 'against',\n",
       " 'President',\n",
       " 'Slobodan',\n",
       " 'Milosevic.',\n",
       " 'You',\n",
       " 'are',\n",
       " 'listening',\n",
       " 'to',\n",
       " 'BBC',\n",
       " 'news',\n",
       " 'for',\n",
       " 'The',\n",
       " 'World']"
      ]
     },
     "execution_count": 73,
     "metadata": {},
     "output_type": "execute_result"
    }
   ],
   "source": [
    "temp1.read_file('D:/Desktop/IR/PA1/pa1.txt')"
   ]
  },
  {
   "cell_type": "markdown",
   "metadata": {},
   "source": [
    "# use .stemming() to lowercast and stem your document"
   ]
  },
  {
   "cell_type": "code",
   "execution_count": 74,
   "metadata": {},
   "outputs": [
    {
     "data": {
      "text/plain": [
       "['and',\n",
       " 'yugoslav',\n",
       " 'author',\n",
       " 'are',\n",
       " 'plan',\n",
       " 'the',\n",
       " 'arrest',\n",
       " 'of',\n",
       " 'eleven',\n",
       " 'coal',\n",
       " 'miner',\n",
       " 'and',\n",
       " 'two',\n",
       " 'opposit',\n",
       " 'politician',\n",
       " 'on',\n",
       " 'suspicion',\n",
       " 'of',\n",
       " 'sabotage,',\n",
       " 'that',\n",
       " 'in',\n",
       " 'connect',\n",
       " 'with',\n",
       " 'strike',\n",
       " 'action',\n",
       " 'against',\n",
       " 'presid',\n",
       " 'slobodan',\n",
       " 'milosev',\n",
       " 'you',\n",
       " 'are',\n",
       " 'listen',\n",
       " 'to',\n",
       " 'bbc',\n",
       " 'news',\n",
       " 'for',\n",
       " 'the',\n",
       " 'world']"
      ]
     },
     "execution_count": 74,
     "metadata": {},
     "output_type": "execute_result"
    }
   ],
   "source": [
    "temp1.stemming()\n",
    "#len(temp1.stemmed_list)"
   ]
  },
  {
   "cell_type": "markdown",
   "metadata": {},
   "source": [
    "# use .stopwarding() to stopward your document"
   ]
  },
  {
   "cell_type": "code",
   "execution_count": 75,
   "metadata": {},
   "outputs": [
    {
     "data": {
      "text/plain": [
       "['yugoslav',\n",
       " 'author',\n",
       " 'plan',\n",
       " 'arrest',\n",
       " 'eleven',\n",
       " 'coal',\n",
       " 'miner',\n",
       " 'two',\n",
       " 'opposit',\n",
       " 'politician',\n",
       " 'suspicion',\n",
       " 'sabotage,',\n",
       " 'connect',\n",
       " 'strike',\n",
       " 'action',\n",
       " 'presid',\n",
       " 'slobodan',\n",
       " 'milosev',\n",
       " 'listen',\n",
       " 'bbc',\n",
       " 'news',\n",
       " 'world']"
      ]
     },
     "execution_count": 75,
     "metadata": {},
     "output_type": "execute_result"
    }
   ],
   "source": [
    "temp1.stopwarding()"
   ]
  },
  {
   "cell_type": "markdown",
   "metadata": {},
   "source": [
    "# you can save your own document named \"result.txt\" by .save_result()"
   ]
  },
  {
   "cell_type": "code",
   "execution_count": 76,
   "metadata": {},
   "outputs": [
    {
     "data": {
      "text/plain": [
       "'file saved'"
      ]
     },
     "execution_count": 76,
     "metadata": {},
     "output_type": "execute_result"
    }
   ],
   "source": [
    "temp1.save_result()"
   ]
  },
  {
   "cell_type": "code",
   "execution_count": 77,
   "metadata": {},
   "outputs": [
    {
     "data": {
      "text/plain": [
       "22"
      ]
     },
     "execution_count": 77,
     "metadata": {},
     "output_type": "execute_result"
    }
   ],
   "source": [
    "len(temp1.stopwarded_list)"
   ]
  },
  {
   "cell_type": "code",
   "execution_count": null,
   "metadata": {},
   "outputs": [],
   "source": []
  }
 ],
 "metadata": {
  "kernelspec": {
   "display_name": "Python 3",
   "language": "python",
   "name": "python3"
  },
  "language_info": {
   "codemirror_mode": {
    "name": "ipython",
    "version": 3
   },
   "file_extension": ".py",
   "mimetype": "text/x-python",
   "name": "python",
   "nbconvert_exporter": "python",
   "pygments_lexer": "ipython3",
   "version": "3.8.3"
  }
 },
 "nbformat": 4,
 "nbformat_minor": 4
}
